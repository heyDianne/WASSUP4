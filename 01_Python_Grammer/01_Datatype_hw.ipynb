{
 "cells": [
  {
   "cell_type": "markdown",
   "id": "88750251-b91e-49ae-8630-31d1646f91d6",
   "metadata": {},
   "source": [
    "# 021 문자열 인덱싱\n",
    "### letters가 바인딩하는 문자열에서 첫번째와 세번째 문자를 출력하세요"
   ]
  },
  {
   "cell_type": "code",
   "execution_count": 4,
   "id": "f61f7585-8d57-4d23-95c6-2bed51c93065",
   "metadata": {},
   "outputs": [
    {
     "name": "stdout",
     "output_type": "stream",
     "text": [
      "p t\n"
     ]
    }
   ],
   "source": [
    "letters = 'python'\n",
    "print(letters[0]+ ' ' + letters[2])"
   ]
  },
  {
   "cell_type": "code",
   "execution_count": 38,
   "id": "fa0dc849-d178-4cfc-9e63-a78b2ba68a83",
   "metadata": {},
   "outputs": [
    {
     "name": "stdout",
     "output_type": "stream",
     "text": [
      "2210\n"
     ]
    }
   ],
   "source": [
    "# 022 문자열 슬라이싱\n",
    "# 자동차 번호가 다음과 같을 때 뒤에 4자리만 출력하세요.\n",
    "license_plate = \"24가 2210\"\n",
    "print(license_plate[-4:])"
   ]
  },
  {
   "cell_type": "code",
   "execution_count": 104,
   "id": "629041df-ca0d-4b9c-a5d8-d07c65f60705",
   "metadata": {},
   "outputs": [
    {
     "name": "stdout",
     "output_type": "stream",
     "text": [
      "홀홀홀\n"
     ]
    }
   ],
   "source": [
    "### 아래의 문자열에서 '홀' 만 출력하세요.\n",
    "string = \"홀짝홀짝홀짝\"  \n",
    "print (string[::2])"
   ]
  },
  {
   "cell_type": "code",
   "execution_count": 108,
   "id": "c6acb1d4-5f6c-4913-910e-e4123dc6cf0c",
   "metadata": {},
   "outputs": [
    {
     "name": "stdout",
     "output_type": "stream",
     "text": [
      "NOHTYP\n",
      "NOHTYP\n"
     ]
    }
   ],
   "source": [
    "#024 문자열 슬라이싱\n",
    "#문자열을 거꾸로 뒤집어 출력하세요.\n",
    "string = \"PYTHON\"\n",
    "print(''.join(reversed(string)))\n",
    "print(string[::-1])"
   ]
  },
  {
   "cell_type": "code",
   "execution_count": 114,
   "id": "dd54426e-e8a0-4e4d-9e43-5ab80040456d",
   "metadata": {},
   "outputs": [
    {
     "name": "stdout",
     "output_type": "stream",
     "text": [
      "010 1111 2222\n",
      "01011112222\n"
     ]
    }
   ],
   "source": [
    "#025 문자열 치환\n",
    "#아래의 전화번호에서 하이푼 ('-')을 제거하고 출력하세요.\n",
    "\n",
    "phone_number = \"010-1111-2222\"\n",
    "phone_number_replace = phone_number.replace(\"-\",\" \")\n",
    "print(phone_number_replace)\n",
    "\n",
    "#25번 문제의 전화번호를 아래와 같이 모두 붙여 출력하세요.\n",
    "phone_number_replace = phone_number.replace(\"-\",\"\")\n",
    "print(phone_number_replace)\n"
   ]
  },
  {
   "cell_type": "code",
   "execution_count": 132,
   "id": "33c894aa-f195-4ae2-9464-bfef68b5ccab",
   "metadata": {},
   "outputs": [
    {
     "name": "stdout",
     "output_type": "stream",
     "text": [
      "kr\n"
     ]
    }
   ],
   "source": [
    "#027 문자열 다루기\n",
    "#url 에 저장된 웹 페이지 주소에서 도메인을 출력하세요.\n",
    "\n",
    "url = \"http://sharebook.kr\"\n",
    "url_idx = url.find(\".\")\n",
    "print (url[url_idx+1:])\n"
   ]
  },
  {
   "cell_type": "code",
   "execution_count": null,
   "id": "c8debcd1-fcbf-46c0-892e-9670fd1108d4",
   "metadata": {},
   "outputs": [],
   "source": [
    "#028 문자열은 immutable\n",
    "#아래 코드의 실행 결과를 예상해보세요\n",
    "```\n",
    "lang = 'python'\n",
    "lang[0] = 'P'\n",
    "print(lang)\n",
    "\n",
    "--> 문법 오류 문자열 일부 수정불가\n",
    "```"
   ]
  },
  {
   "cell_type": "code",
   "execution_count": 140,
   "id": "c9813aae-9dac-4285-a437-71b496d75210",
   "metadata": {},
   "outputs": [
    {
     "name": "stdout",
     "output_type": "stream",
     "text": [
      "ABCDFE2A354A32A\n"
     ]
    }
   ],
   "source": [
    "#29 replace 메서드\n",
    "#아래 문자열에서 소문자 'a'를 대문자 'A'로 변경\n",
    "\n",
    "string = 'abcdfe2a354a32a'\n",
    "print (string.upper())\n"
   ]
  },
  {
   "cell_type": "markdown",
   "id": "7f86960c-1bf6-412e-92cf-4adeadb11b47",
   "metadata": {},
   "source": [
    "#030 replace 메서드\n",
    "#아래 코드의 실행 결과를 예상해보세요.\n",
    "```\n",
    ">> string = 'abcd'\n",
    ">> string.replace('b', 'B')\n",
    ">> print(string)\n",
    ">>수정 replace 메소드는 다른 저장소로 작업이 되므로 \n",
    "```\n"
   ]
  },
  {
   "cell_type": "code",
   "execution_count": 159,
   "id": "2a323fc5-9ff5-4af1-ac58-4610185abff1",
   "metadata": {},
   "outputs": [
    {
     "name": "stdout",
     "output_type": "stream",
     "text": [
      "34\n"
     ]
    }
   ],
   "source": [
    "#031 문자열 합치기\n",
    "#아래 코드의 실행 결과를 예상해보세요.\n",
    "\n",
    "a = \"3\"\n",
    "b = \"4\"\n",
    "print(a + b)\n",
    "# 문자이므로 병합 34"
   ]
  },
  {
   "cell_type": "code",
   "execution_count": 157,
   "id": "d4771a3f-0f84-47f7-9493-a650167a8527",
   "metadata": {},
   "outputs": [
    {
     "name": "stdout",
     "output_type": "stream",
     "text": [
      "HiHiHi\n"
     ]
    }
   ],
   "source": [
    "#032 문자열 곱하기\n",
    "#아래 코드의 실행 결과를 예상해보세요.\n",
    "\n",
    "print(\"Hi\" * 3)\n",
    "# HiHiHi"
   ]
  },
  {
   "cell_type": "code",
   "execution_count": 161,
   "id": "261ba883-afaa-4829-8bc8-c10f1d4d502f",
   "metadata": {},
   "outputs": [
    {
     "name": "stdout",
     "output_type": "stream",
     "text": [
      "--------------------------------------------------------------------------------\n"
     ]
    }
   ],
   "source": [
    "##033 문자열 곱하기\n",
    "#화면에 '-'를 80개 출력하세요.\n",
    "print (\"-\" * 80)"
   ]
  },
  {
   "cell_type": "code",
   "execution_count": 171,
   "id": "1dffc12b-1091-41f2-9133-9a0fd527e3ba",
   "metadata": {},
   "outputs": [
    {
     "name": "stdout",
     "output_type": "stream",
     "text": [
      "python java python java python java python java \n"
     ]
    }
   ],
   "source": [
    "#034 문자열 곱하기\n",
    "#변수에 다음과 같은 문자열이 바인딩되어 있습니다.\n",
    "\n",
    "t1 = 'python'\n",
    "t2 = 'java'\n",
    "#변수에 문자열 더하기와 문자열 곱하기를 사용해서 아래와 같이 출력해보세요.\n",
    "#실행 예:\n",
    "#python java python java python java python java\n",
    "print ((t1+' ' +t2+' ') * 4)"
   ]
  },
  {
   "cell_type": "code",
   "execution_count": 209,
   "id": "4b9178ad-75cf-4624-945e-4dea03ed0554",
   "metadata": {},
   "outputs": [
    {
     "name": "stdout",
     "output_type": "stream",
     "text": [
      "이름: 김민수 나이: 10\n",
      "이름: 이철희 나이: 13\n",
      "036 문자열 출력\n",
      "이름: 김민수 나이: 10\n",
      "이름: 이철희 나이: 13\n",
      "037 문자열 출력\n",
      "이름: 김민수 나이: 10\n",
      "이름: 이철희 나이: 13\n"
     ]
    }
   ],
   "source": [
    "#035 문자열 출력\n",
    "#변수에 다음과 같이 문자열과 정수가 바인딩되어 있을 때 % formatting을 사용해서 다음과 같이 출력해보세요.\n",
    "\n",
    "name1 = \"김민수\" \n",
    "age1 = 10\n",
    "name2 = \"이철희\"\n",
    "age2 = 13\n",
    "#이름: 김민수 나이: 10\n",
    "#이름: 이철희 나이: 13\n",
    "print(\"이름: %s 나이: %d\" %(name1,age1))\n",
    "print(\"이름: %s 나이: %d\" %(name2,age2))\n",
    "\n",
    "#036 문자열 출력\n",
    "#문자열의 format( ) 메서드를 사용해서 035번 문제를 다시 풀어보세요.\n",
    "print(\"036 문자열 출력\")\n",
    "print(\"이름: {0} 나이: {1}\".format(name1,age1))\n",
    "print(\"이름: {0} 나이: {1}\".format(name2,age2))\n",
    "\n",
    "#037 문자열 출력\n",
    "#파이썬 3.6부터 지원하는 f-string을 사용해서 035번 문제를 다시 풀어보세요.\n",
    "print(\"037 문자열 출력\")\n",
    "print(f\"이름: {name1} 나이: {age1}\")\n",
    "print(f\"이름: {name2} 나이: {age2}\")\n"
   ]
  },
  {
   "cell_type": "code",
   "execution_count": 227,
   "id": "2fdc920e-4848-4a3e-aa14-6216e509e6c4",
   "metadata": {},
   "outputs": [
    {
     "name": "stdout",
     "output_type": "stream",
     "text": [
      "<class 'int'>\n",
      "5969782550\n"
     ]
    }
   ],
   "source": [
    "#038 컴마 제거하기\n",
    "#삼성전자의 상장주식수가 다음과 같습니다. 컴마를 제거한 후 이를 정수 타입으로 변환해보세요.\n",
    "\n",
    "상장주식수 = \"5,969,782,550\"\n",
    "상장주식수_int =  int(상장주식수.translate({ord(','): None}) )\n",
    "print (type(상장주식수_int))\n",
    "print (상장주식수_int)"
   ]
  },
  {
   "cell_type": "code",
   "execution_count": 235,
   "id": "0b45631d-963c-494d-b2ec-988a221222d6",
   "metadata": {},
   "outputs": [
    {
     "name": "stdout",
     "output_type": "stream",
     "text": [
      "2020/03\n"
     ]
    }
   ],
   "source": [
    "#039 문자열 슬라이싱\n",
    "#다음과 같은 문자열에서 '2020/03'만 출력하세요.\n",
    "\n",
    "분기 = \"2020/03(E) (IFRS연결)\"\n",
    "date_idx =분기.index('(')\n",
    "print(분기[:date_idx])"
   ]
  },
  {
   "cell_type": "code",
   "execution_count": 237,
   "id": "8656aec3-941e-446c-943e-ea054f6219f9",
   "metadata": {},
   "outputs": [
    {
     "name": "stdout",
     "output_type": "stream",
     "text": [
      "삼성전자\n"
     ]
    }
   ],
   "source": [
    "#040 strip 메서드\n",
    "#문자열의 좌우의 공백이 있을 때 이를 제거해보세요.\n",
    "\n",
    "data = \"   삼성전자    \"\n",
    "print (data.strip())"
   ]
  },
  {
   "cell_type": "code",
   "execution_count": 303,
   "id": "7ca0c171-5035-4b47-ba60-c0a44a7c407c",
   "metadata": {},
   "outputs": [
    {
     "name": "stdout",
     "output_type": "stream",
     "text": [
      "BTC_KRW\n",
      "btc_krw\n",
      "Hello\n",
      "True\n",
      "True\n",
      "True\n",
      "['hello', 'world']\n",
      "['btc', 'krw']\n",
      "['2020', '05', '01']\n",
      "<class 'list'>\n",
      "039490\n"
     ]
    }
   ],
   "source": [
    "#041 upper 메서드\n",
    "#다음과 같은 문자열이 있을 때 이를 대문자 BTC_KRW로 변경하세요.\n",
    "\n",
    "ticker = \"btc_krw\"\n",
    "print(ticker.upper())\n",
    "\n",
    "#042 lower 메서드\n",
    "#다음과 같은 문자열이 있을 때 이를 소문자 btc_krw로 변경하세요.\n",
    "\n",
    "tickerA = \"BTC_KRW\"\n",
    "print(ticker.lower())\n",
    "\n",
    "#043 capitalize 메서드\n",
    "#문자열 'hello'가 있을 때 이를 'Hello'로 변경해보세요.\n",
    "strC = \"hello\"\n",
    "print(strC.capitalize())\n",
    "\n",
    "#044 endswith 메서드\n",
    "#파일 이름이 문자열로 저장되어 있을 때 endswith 메서드를 사용해서 파일 이름이 'xlsx'로 끝나는지 확인해보세요.\n",
    "\n",
    "file_name = \"보고서.xlsx\"\n",
    "\n",
    "file_name_chk = file_name.endswith('xlsx')\n",
    "\n",
    "print(file_name_chk)\n",
    "\n",
    "#045 endswith 메서드\n",
    "#파일 이름이 문자열로 저장되어 있을 때 endswith 메서드를 사용해서 파일 이름이 'xlsx' 또는 'xls'로 끝나는지 확인해보세요.\n",
    "\n",
    "file_name = \"보고서.xlsx\"\n",
    "file_name_chk = file_name.endswith('xlsx') | file_name.endswith('xls')\n",
    "\n",
    "print(file_name_chk)\n",
    "\n",
    "#046 startswith 메서드\n",
    "#파일 이름이 문자열로 저장되어 있을 때 startswith 메서드를 사용해서 파일 이름이 '2020'로 시작하는지 확인해보세요.\n",
    "\n",
    "file_name = \"2020_보고서.xlsx\"\n",
    "file_name_strswth = file_name.startswith('2020') \n",
    "\n",
    "print(file_name_strswth)\n",
    "\n",
    "#047 split 메서드\n",
    "#다음과 같은 문자열이 있을 때 공백을 기준으로 문자열을 나눠보세요.\n",
    "\n",
    "a = \"hello world\"\n",
    "print(a.split())\n",
    "\n",
    "#048 split 메서드\n",
    "#다음과 같이 문자열이 있을 때 btc와 krw로 나눠보세요.\n",
    "\n",
    "ticker = \"btc_krw\"\n",
    "print(ticker.split('_'))\n",
    "\n",
    "#049 split 메서드\n",
    "#다음과 같이 날짜를 표현하는 문자열이 있을 때 연도, 월, 일로 나눠보세요.\n",
    "\n",
    "date = \"2020-05-01\"\n",
    "date_l = date.split('-')\n",
    "print(date_l)\n",
    "print(type(date_l))\n",
    "\n",
    "#050 rstrip 메서드\n",
    "#문자열의 오른쪽에 공백이 있을 때 이를 제거해보세요.\n",
    "\n",
    "data = \"039490     \"\n",
    "print(data.rstrip())\n"
   ]
  },
  {
   "cell_type": "code",
   "execution_count": null,
   "id": "8d294380-477b-4c01-9c77-480889b0b183",
   "metadata": {},
   "outputs": [],
   "source": []
  },
  {
   "cell_type": "code",
   "execution_count": null,
   "id": "afd7bbae-ca5f-46ac-b341-dc9915b8464f",
   "metadata": {},
   "outputs": [],
   "source": []
  },
  {
   "cell_type": "code",
   "execution_count": null,
   "id": "224d9d29-e3b3-4e46-bf66-e16bb77c28cb",
   "metadata": {},
   "outputs": [],
   "source": []
  },
  {
   "cell_type": "code",
   "execution_count": null,
   "id": "b38e527b-2b30-4990-921c-b7662f118427",
   "metadata": {},
   "outputs": [],
   "source": []
  },
  {
   "cell_type": "code",
   "execution_count": null,
   "id": "87981462-76ef-46d3-bd82-f1c944c744aa",
   "metadata": {},
   "outputs": [],
   "source": [
    "\n",
    "정답확인\n",
    "정답확인\n"
   ]
  }
 ],
 "metadata": {
  "kernelspec": {
   "display_name": "Python 3 (ipykernel)",
   "language": "python",
   "name": "python3"
  },
  "language_info": {
   "codemirror_mode": {
    "name": "ipython",
    "version": 3
   },
   "file_extension": ".py",
   "mimetype": "text/x-python",
   "name": "python",
   "nbconvert_exporter": "python",
   "pygments_lexer": "ipython3",
   "version": "3.12.4"
  }
 },
 "nbformat": 4,
 "nbformat_minor": 5
}
